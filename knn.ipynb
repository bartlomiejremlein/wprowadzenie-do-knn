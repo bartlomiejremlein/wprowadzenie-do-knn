{
 "cells": [
  {
   "cell_type": "code",
   "execution_count": 1,
   "metadata": {},
   "outputs": [],
   "source": [
    "from sklearn.datasets import load_iris, fetch_california_housing\n",
    "from sklearn.model_selection import train_test_split\n",
    "from sklearn.neighbors import KNeighborsClassifier\n",
    "from sklearn.neighbors import KNeighborsRegressor\n",
    "from sklearn.metrics import r2_score, mean_squared_error\n",
    "from sklearn.metrics import accuracy_score\n",
    "from sklearn.model_selection import cross_val_score\n",
    "import pandas as pd\n",
    "import numpy as np\n",
    "from scipy import stats "
   ]
  },
  {
   "cell_type": "code",
   "execution_count": 11,
   "metadata": {},
   "outputs": [],
   "source": [
    "X, y = load_iris(return_X_y=True)\n",
    "\n",
    "X_train, X_test, y_train, y_test = train_test_split(X, y, test_size=0.25, stratify=y, random_state=42)"
   ]
  },
  {
   "cell_type": "code",
   "execution_count": null,
   "metadata": {},
   "outputs": [],
   "source": [
    "knn = KNeighborsClassifier(n_neighbors=5)\n",
    "knn.fit(X_train, y_train)\n",
    "y_pred = knn.predict(X_test)"
   ]
  },
  {
   "cell_type": "code",
   "execution_count": 12,
   "metadata": {},
   "outputs": [],
   "source": [
    "neighbors = list(range(1, 50, 2))\n",
    "\n",
    "accuracy = []\n",
    "\n",
    "for k in neighbors:\n",
    "    knn = KNeighborsClassifier(n_neighbors=k)\n",
    "    score = cross_val_score(knn, X_train, y_train, cv=10, scoring='accuracy')\n",
    "    accuracy.append((k, score.mean()))\n",
    "\n",
    "pd.DataFrame(accuracy, columns=['k', 'accuracy']).to_csv('cv.csv', index=False)"
   ]
  },
  {
   "cell_type": "code",
   "execution_count": 7,
   "metadata": {},
   "outputs": [
    {
     "name": "stdout",
     "output_type": "stream",
     "text": [
      "R2: 0.15, błąd średniokwadratowy: 1.15\n"
     ]
    }
   ],
   "source": [
    "X, y = fetch_california_housing(return_X_y=True)\n",
    "X_train, X_test, y_train, y_test = train_test_split(X, y, test_size=0.25)\n",
    "\n",
    "knn_r = KNeighborsRegressor(n_neighbors=5)\n",
    "knn_r.fit(X_train, y_train)\n",
    "y_pred = knn_r.predict(X_test)\n",
    "\n",
    "print(f'R2: {r2_score(y_test, y_pred):.2f}, błąd średniokwadratowy: {mean_squared_error(y_test, y_pred):.2f}')"
   ]
  },
  {
   "cell_type": "code",
   "execution_count": 5,
   "metadata": {},
   "outputs": [],
   "source": [
    "class KNNClassifier:\n",
    "    def __init__(self, n_neighbors):\n",
    "        self.n_neighbors=n_neighbors\n",
    "    \n",
    "    def fit(self, X_train, y_train):\n",
    "        self.X_train = X_train\n",
    "        self.y_train = y_train\n",
    "       \n",
    "    def predict(self, X_test):\n",
    "        \n",
    "        y_pred = [] \n",
    "        \n",
    "        for _, test_row in enumerate(X_test):  \n",
    "            \n",
    "            distances = []\n",
    "            \n",
    "            for train_index, train_row in enumerate(self.X_train):\n",
    "                distance = np.sqrt(np.sum(np.square(test_row - train_row)))\n",
    "                distances.append((distance, self.y_train[train_index]))\n",
    "            \n",
    "            # sortowanie listy rosnąco\n",
    "            distances = sorted(distances, key=lambda x: x[0])\n",
    "            neighbors = [label for _, label in distances[:self.n_neighbors]]\n",
    "            y_pred.append(stats.mode(neighbors, keepdims=False).mode)\n",
    "            \n",
    "        return y_pred"
   ]
  },
  {
   "cell_type": "code",
   "execution_count": 6,
   "metadata": {},
   "outputs": [
    {
     "name": "stdout",
     "output_type": "stream",
     "text": [
      "Dokładność naszego k-NN to 94.7%\n",
      "Dokładność k-NN z sci-kit learn to 94.7%\n"
     ]
    }
   ],
   "source": [
    "N_NEIGHBORS = 13\n",
    "        \n",
    "knn = KNNClassifier(n_neighbors=N_NEIGHBORS)\n",
    "knn.fit(X_train, y_train)\n",
    "y_pred = knn.predict(X_test)\n",
    "\n",
    "knn_sklearn = KNeighborsClassifier(n_neighbors=N_NEIGHBORS)\n",
    "knn_sklearn.fit(X_train, y_train)\n",
    "y_pred_sklearn = knn_sklearn.predict(X_test)\n",
    "\n",
    "print(f\"Dokładność naszego k-NN to {accuracy_score(y_test, y_pred)*100:.1f}%\") \n",
    "print(f\"Dokładność k-NN z sci-kit learn to {accuracy_score(y_test, y_pred_sklearn)*100:.1f}%\") "
   ]
  },
  {
   "cell_type": "code",
   "execution_count": 3,
   "metadata": {},
   "outputs": [],
   "source": [
    "class KNNRegressor:\n",
    "    def __init__(self, n_neighbors):\n",
    "        self.n_neighbors=n_neighbors\n",
    "    \n",
    "    def fit(self, X_train, y_train):\n",
    "        self.X_train = X_train\n",
    "        self.y_train = y_train\n",
    "       \n",
    "    def predict(self, X_test):\n",
    "        \n",
    "        y_pred = []\n",
    "        \n",
    "        for test_index, test_row in enumerate(X_test):  \n",
    "            \n",
    "            distances = []\n",
    "            \n",
    "            for train_index, train_row in enumerate(self.X_train):\n",
    "                distance = np.sqrt(np.sum(np.square(test_row - train_row)))\n",
    "                distances.append((distance, self.y_train[train_index]))\n",
    "                \n",
    "            distances = sorted(distances, key=lambda x: x[0])\n",
    "            neighbors = [target for distance, target in distances[:self.n_neighbors]]\n",
    "            y_pred.append(np.round(np.mean(neighbors), 4))\n",
    "            \n",
    "        return y_pred\n",
    "    "
   ]
  }
 ],
 "metadata": {
  "kernelspec": {
   "display_name": "Python 3.10.2 ('venv': venv)",
   "language": "python",
   "name": "python3"
  },
  "language_info": {
   "codemirror_mode": {
    "name": "ipython",
    "version": 3
   },
   "file_extension": ".py",
   "mimetype": "text/x-python",
   "name": "python",
   "nbconvert_exporter": "python",
   "pygments_lexer": "ipython3",
   "version": "3.10.2"
  },
  "orig_nbformat": 4,
  "vscode": {
   "interpreter": {
    "hash": "a00eb934d0b938eba05ce21f1443297b27263049547454bd31d78fa2192db062"
   }
  }
 },
 "nbformat": 4,
 "nbformat_minor": 2
}
